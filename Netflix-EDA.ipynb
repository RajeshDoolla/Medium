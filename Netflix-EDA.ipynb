{
 "cells": [
  {
   "cell_type": "code",
   "execution_count": 199,
   "metadata": {},
   "outputs": [],
   "source": [
    "import pandas as pd\n",
    "import matplotlib.pyplot as plt\n",
    "import seaborn as sns"
   ]
  },
  {
   "cell_type": "markdown",
   "metadata": {},
   "source": [
    "DataSource:\n",
    "    \n",
    "    Kaggle: https://www.kaggle.com/shivamb/netflix-shows\n",
    "    \n",
    "    Medium: https://towardsdatascience.com/exploring-netflix-data-in-python-eb03e8f3944c"
   ]
  },
  {
   "cell_type": "code",
   "execution_count": 126,
   "metadata": {},
   "outputs": [],
   "source": [
    "netflix_db=pd.read_csv('netflix_titles.csv')"
   ]
  },
  {
   "cell_type": "code",
   "execution_count": 127,
   "metadata": {},
   "outputs": [
    {
     "data": {
      "text/plain": [
       "Index(['show_id', 'type', 'title', 'director', 'cast', 'country', 'date_added',\n",
       "       'release_year', 'rating', 'duration', 'listed_in', 'description'],\n",
       "      dtype='object')"
      ]
     },
     "execution_count": 127,
     "metadata": {},
     "output_type": "execute_result"
    }
   ],
   "source": [
    "netflix_db.columns"
   ]
  },
  {
   "cell_type": "code",
   "execution_count": 65,
   "metadata": {},
   "outputs": [
    {
     "name": "stdout",
     "output_type": "stream",
     "text": [
      "<class 'pandas.core.frame.DataFrame'>\n",
      "RangeIndex: 6234 entries, 0 to 6233\n",
      "Data columns (total 12 columns):\n",
      " #   Column        Non-Null Count  Dtype \n",
      "---  ------        --------------  ----- \n",
      " 0   show_id       6234 non-null   int64 \n",
      " 1   type          6234 non-null   object\n",
      " 2   title         6234 non-null   object\n",
      " 3   director      4265 non-null   object\n",
      " 4   cast          5664 non-null   object\n",
      " 5   country       5758 non-null   object\n",
      " 6   date_added    6223 non-null   object\n",
      " 7   release_year  6234 non-null   int64 \n",
      " 8   rating        6224 non-null   object\n",
      " 9   duration      6234 non-null   object\n",
      " 10  listed_in     6234 non-null   object\n",
      " 11  description   6234 non-null   object\n",
      "dtypes: int64(2), object(10)\n",
      "memory usage: 584.6+ KB\n"
     ]
    }
   ],
   "source": [
    "netflix_db.info()"
   ]
  },
  {
   "cell_type": "code",
   "execution_count": 66,
   "metadata": {},
   "outputs": [],
   "source": [
    "netflix_db.date_added=pd.to_datetime(netflix_db.date_added)"
   ]
  },
  {
   "cell_type": "code",
   "execution_count": 67,
   "metadata": {},
   "outputs": [
    {
     "name": "stdout",
     "output_type": "stream",
     "text": [
      "<class 'pandas.core.frame.DataFrame'>\n",
      "RangeIndex: 6234 entries, 0 to 6233\n",
      "Data columns (total 12 columns):\n",
      " #   Column        Non-Null Count  Dtype         \n",
      "---  ------        --------------  -----         \n",
      " 0   show_id       6234 non-null   int64         \n",
      " 1   type          6234 non-null   object        \n",
      " 2   title         6234 non-null   object        \n",
      " 3   director      4265 non-null   object        \n",
      " 4   cast          5664 non-null   object        \n",
      " 5   country       5758 non-null   object        \n",
      " 6   date_added    6223 non-null   datetime64[ns]\n",
      " 7   release_year  6234 non-null   int64         \n",
      " 8   rating        6224 non-null   object        \n",
      " 9   duration      6234 non-null   object        \n",
      " 10  listed_in     6234 non-null   object        \n",
      " 11  description   6234 non-null   object        \n",
      "dtypes: datetime64[ns](1), int64(2), object(9)\n",
      "memory usage: 584.6+ KB\n"
     ]
    }
   ],
   "source": [
    "netflix_db.info()"
   ]
  },
  {
   "cell_type": "code",
   "execution_count": 68,
   "metadata": {},
   "outputs": [
    {
     "data": {
      "text/plain": [
       "1 Season     1321\n",
       "2 Seasons     304\n",
       "3 Seasons     158\n",
       "90 min        111\n",
       "91 min        104\n",
       "             ... \n",
       "193 min         1\n",
       "214 min         1\n",
       "203 min         1\n",
       "182 min         1\n",
       "196 min         1\n",
       "Name: duration, Length: 201, dtype: int64"
      ]
     },
     "execution_count": 68,
     "metadata": {},
     "output_type": "execute_result"
    }
   ],
   "source": [
    "netflix_db['duration'].value_counts()"
   ]
  },
  {
   "cell_type": "code",
   "execution_count": 69,
   "metadata": {},
   "outputs": [
    {
     "data": {
      "text/plain": [
       "(6234, 12)"
      ]
     },
     "execution_count": 69,
     "metadata": {},
     "output_type": "execute_result"
    }
   ],
   "source": [
    "netflix_db.shape"
   ]
  },
  {
   "cell_type": "code",
   "execution_count": 70,
   "metadata": {},
   "outputs": [
    {
     "name": "stdout",
     "output_type": "stream",
     "text": [
      "The no of rows 6234\n"
     ]
    },
    {
     "data": {
      "text/html": [
       "<div>\n",
       "<style scoped>\n",
       "    .dataframe tbody tr th:only-of-type {\n",
       "        vertical-align: middle;\n",
       "    }\n",
       "\n",
       "    .dataframe tbody tr th {\n",
       "        vertical-align: top;\n",
       "    }\n",
       "\n",
       "    .dataframe thead th {\n",
       "        text-align: right;\n",
       "    }\n",
       "</style>\n",
       "<table border=\"1\" class=\"dataframe\">\n",
       "  <thead>\n",
       "    <tr style=\"text-align: right;\">\n",
       "      <th></th>\n",
       "      <th>show_id</th>\n",
       "      <th>type</th>\n",
       "      <th>title</th>\n",
       "      <th>director</th>\n",
       "      <th>cast</th>\n",
       "      <th>country</th>\n",
       "      <th>date_added</th>\n",
       "      <th>release_year</th>\n",
       "      <th>rating</th>\n",
       "      <th>duration</th>\n",
       "      <th>listed_in</th>\n",
       "      <th>description</th>\n",
       "    </tr>\n",
       "  </thead>\n",
       "  <tbody>\n",
       "    <tr>\n",
       "      <th>0</th>\n",
       "      <td>81145628</td>\n",
       "      <td>Movie</td>\n",
       "      <td>Norm of the North: King Sized Adventure</td>\n",
       "      <td>Richard Finn, Tim Maltby</td>\n",
       "      <td>Alan Marriott, Andrew Toth, Brian Dobson, Cole...</td>\n",
       "      <td>United States, India, South Korea, China</td>\n",
       "      <td>2019-09-09</td>\n",
       "      <td>2019</td>\n",
       "      <td>TV-PG</td>\n",
       "      <td>90 min</td>\n",
       "      <td>Children &amp; Family Movies, Comedies</td>\n",
       "      <td>Before planning an awesome wedding for his gra...</td>\n",
       "    </tr>\n",
       "    <tr>\n",
       "      <th>1</th>\n",
       "      <td>80117401</td>\n",
       "      <td>Movie</td>\n",
       "      <td>Jandino: Whatever it Takes</td>\n",
       "      <td>NaN</td>\n",
       "      <td>Jandino Asporaat</td>\n",
       "      <td>United Kingdom</td>\n",
       "      <td>2016-09-09</td>\n",
       "      <td>2016</td>\n",
       "      <td>TV-MA</td>\n",
       "      <td>94 min</td>\n",
       "      <td>Stand-Up Comedy</td>\n",
       "      <td>Jandino Asporaat riffs on the challenges of ra...</td>\n",
       "    </tr>\n",
       "    <tr>\n",
       "      <th>2</th>\n",
       "      <td>70234439</td>\n",
       "      <td>TV Show</td>\n",
       "      <td>Transformers Prime</td>\n",
       "      <td>NaN</td>\n",
       "      <td>Peter Cullen, Sumalee Montano, Frank Welker, J...</td>\n",
       "      <td>United States</td>\n",
       "      <td>2018-09-08</td>\n",
       "      <td>2013</td>\n",
       "      <td>TV-Y7-FV</td>\n",
       "      <td>1 Season</td>\n",
       "      <td>Kids' TV</td>\n",
       "      <td>With the help of three human allies, the Autob...</td>\n",
       "    </tr>\n",
       "    <tr>\n",
       "      <th>3</th>\n",
       "      <td>80058654</td>\n",
       "      <td>TV Show</td>\n",
       "      <td>Transformers: Robots in Disguise</td>\n",
       "      <td>NaN</td>\n",
       "      <td>Will Friedle, Darren Criss, Constance Zimmer, ...</td>\n",
       "      <td>United States</td>\n",
       "      <td>2018-09-08</td>\n",
       "      <td>2016</td>\n",
       "      <td>TV-Y7</td>\n",
       "      <td>1 Season</td>\n",
       "      <td>Kids' TV</td>\n",
       "      <td>When a prison ship crash unleashes hundreds of...</td>\n",
       "    </tr>\n",
       "    <tr>\n",
       "      <th>4</th>\n",
       "      <td>80125979</td>\n",
       "      <td>Movie</td>\n",
       "      <td>#realityhigh</td>\n",
       "      <td>Fernando Lebrija</td>\n",
       "      <td>Nesta Cooper, Kate Walsh, John Michael Higgins...</td>\n",
       "      <td>United States</td>\n",
       "      <td>2017-09-08</td>\n",
       "      <td>2017</td>\n",
       "      <td>TV-14</td>\n",
       "      <td>99 min</td>\n",
       "      <td>Comedies</td>\n",
       "      <td>When nerdy high schooler Dani finally attracts...</td>\n",
       "    </tr>\n",
       "  </tbody>\n",
       "</table>\n",
       "</div>"
      ],
      "text/plain": [
       "    show_id     type                                    title  \\\n",
       "0  81145628    Movie  Norm of the North: King Sized Adventure   \n",
       "1  80117401    Movie               Jandino: Whatever it Takes   \n",
       "2  70234439  TV Show                       Transformers Prime   \n",
       "3  80058654  TV Show         Transformers: Robots in Disguise   \n",
       "4  80125979    Movie                             #realityhigh   \n",
       "\n",
       "                   director  \\\n",
       "0  Richard Finn, Tim Maltby   \n",
       "1                       NaN   \n",
       "2                       NaN   \n",
       "3                       NaN   \n",
       "4          Fernando Lebrija   \n",
       "\n",
       "                                                cast  \\\n",
       "0  Alan Marriott, Andrew Toth, Brian Dobson, Cole...   \n",
       "1                                   Jandino Asporaat   \n",
       "2  Peter Cullen, Sumalee Montano, Frank Welker, J...   \n",
       "3  Will Friedle, Darren Criss, Constance Zimmer, ...   \n",
       "4  Nesta Cooper, Kate Walsh, John Michael Higgins...   \n",
       "\n",
       "                                    country date_added  release_year  \\\n",
       "0  United States, India, South Korea, China 2019-09-09          2019   \n",
       "1                            United Kingdom 2016-09-09          2016   \n",
       "2                             United States 2018-09-08          2013   \n",
       "3                             United States 2018-09-08          2016   \n",
       "4                             United States 2017-09-08          2017   \n",
       "\n",
       "     rating  duration                           listed_in  \\\n",
       "0     TV-PG    90 min  Children & Family Movies, Comedies   \n",
       "1     TV-MA    94 min                     Stand-Up Comedy   \n",
       "2  TV-Y7-FV  1 Season                            Kids' TV   \n",
       "3     TV-Y7  1 Season                            Kids' TV   \n",
       "4     TV-14    99 min                            Comedies   \n",
       "\n",
       "                                         description  \n",
       "0  Before planning an awesome wedding for his gra...  \n",
       "1  Jandino Asporaat riffs on the challenges of ra...  \n",
       "2  With the help of three human allies, the Autob...  \n",
       "3  When a prison ship crash unleashes hundreds of...  \n",
       "4  When nerdy high schooler Dani finally attracts...  "
      ]
     },
     "execution_count": 70,
     "metadata": {},
     "output_type": "execute_result"
    }
   ],
   "source": [
    "print(\"The no of rows\",len(netflix_db))\n",
    "netflix_db.head()"
   ]
  },
  {
   "cell_type": "markdown",
   "metadata": {},
   "source": [
    "2.#### We can see that there are several categorical columns. Let’s define a function that takes as input a data frame, column name, and limit. When called, it prints a dictionary of categorical values and how frequently they appear:"
   ]
  },
  {
   "cell_type": "code",
   "execution_count": 101,
   "metadata": {},
   "outputs": [],
   "source": [
    "def return_counter(data_frame, column_name, limit):\n",
    "    from collections import Counter    \n",
    "    print(dict(Counter(data_frame[column_name].values).most_common(limit)))"
   ]
  },
  {
   "cell_type": "code",
   "execution_count": 102,
   "metadata": {},
   "outputs": [
    {
     "name": "stdout",
     "output_type": "stream",
     "text": [
      "{2018: 1063, 2017: 959, 2019: 843, 2016: 830, 2015: 517, 2014: 288, 2013: 237, 2012: 183, 2010: 149, 2011: 136}\n"
     ]
    }
   ],
   "source": [
    "return_counter(netflix_db,'release_year', 10)"
   ]
  },
  {
   "cell_type": "code",
   "execution_count": 92,
   "metadata": {},
   "outputs": [
    {
     "data": {
      "text/html": [
       "<div>\n",
       "<style scoped>\n",
       "    .dataframe tbody tr th:only-of-type {\n",
       "        vertical-align: middle;\n",
       "    }\n",
       "\n",
       "    .dataframe tbody tr th {\n",
       "        vertical-align: top;\n",
       "    }\n",
       "\n",
       "    .dataframe thead th {\n",
       "        text-align: right;\n",
       "    }\n",
       "</style>\n",
       "<table border=\"1\" class=\"dataframe\">\n",
       "  <thead>\n",
       "    <tr style=\"text-align: right;\">\n",
       "      <th></th>\n",
       "      <th>index</th>\n",
       "      <th>release_year</th>\n",
       "    </tr>\n",
       "  </thead>\n",
       "  <tbody>\n",
       "    <tr>\n",
       "      <th>0</th>\n",
       "      <td>2018</td>\n",
       "      <td>1063</td>\n",
       "    </tr>\n",
       "    <tr>\n",
       "      <th>1</th>\n",
       "      <td>2017</td>\n",
       "      <td>959</td>\n",
       "    </tr>\n",
       "    <tr>\n",
       "      <th>2</th>\n",
       "      <td>2019</td>\n",
       "      <td>843</td>\n",
       "    </tr>\n",
       "    <tr>\n",
       "      <th>3</th>\n",
       "      <td>2016</td>\n",
       "      <td>830</td>\n",
       "    </tr>\n",
       "    <tr>\n",
       "      <th>4</th>\n",
       "      <td>2015</td>\n",
       "      <td>517</td>\n",
       "    </tr>\n",
       "  </tbody>\n",
       "</table>\n",
       "</div>"
      ],
      "text/plain": [
       "   index  release_year\n",
       "0   2018          1063\n",
       "1   2017           959\n",
       "2   2019           843\n",
       "3   2016           830\n",
       "4   2015           517"
      ]
     },
     "execution_count": 92,
     "metadata": {},
     "output_type": "execute_result"
    }
   ],
   "source": [
    "pd.DataFrame(netflix_db['release_year'].value_counts()).reset_index().head()"
   ]
  },
  {
   "cell_type": "code",
   "execution_count": 104,
   "metadata": {},
   "outputs": [
    {
     "data": {
      "text/plain": [
       "show_id            0\n",
       "type               0\n",
       "title              0\n",
       "director        1969\n",
       "cast             570\n",
       "country          476\n",
       "date_added        11\n",
       "release_year       0\n",
       "rating            10\n",
       "duration           0\n",
       "listed_in          0\n",
       "description        0\n",
       "dtype: int64"
      ]
     },
     "execution_count": 104,
     "metadata": {},
     "output_type": "execute_result"
    }
   ],
   "source": [
    "netflix_db.isna().sum()"
   ]
  },
  {
   "cell_type": "markdown",
   "metadata": {},
   "source": [
    "##### Let’s apply our function to the ‘director’ column, upon dropping missing values:"
   ]
  },
  {
   "cell_type": "code",
   "execution_count": 128,
   "metadata": {},
   "outputs": [],
   "source": [
    "netflix_db['director'].dropna(inplace=True)"
   ]
  },
  {
   "cell_type": "code",
   "execution_count": 111,
   "metadata": {},
   "outputs": [
    {
     "name": "stdout",
     "output_type": "stream",
     "text": [
      "{'Raúl Campos, Jan Suter': 18, 'Marcus Raboy': 14, 'Jay Karas': 13, 'Jay Chapman': 12, 'Martin Scorsese': 9, 'Steven Spielberg': 9, 'Lance Bangs': 8, 'David Dhawan': 8, 'Johnnie To': 8, 'Ryan Polito': 7}\n"
     ]
    }
   ],
   "source": [
    "return_counter(netflix_db,'director', 10)"
   ]
  },
  {
   "cell_type": "markdown",
   "metadata": {},
   "source": [
    "#### Now, let's look at titles from the most common director's "
   ]
  },
  {
   "cell_type": "code",
   "execution_count": 129,
   "metadata": {},
   "outputs": [
    {
     "name": "stderr",
     "output_type": "stream",
     "text": [
      "C:\\python\\lib\\site-packages\\ipykernel_launcher.py:1: UserWarning: Boolean Series key will be reindexed to match DataFrame index.\n",
      "  \"\"\"Entry point for launching an IPython kernel.\n"
     ]
    },
    {
     "ename": "IndexingError",
     "evalue": "Unalignable boolean Series provided as indexer (index of the boolean Series and of the indexed object do not match).",
     "output_type": "error",
     "traceback": [
      "\u001b[1;31m---------------------------------------------------------------------------\u001b[0m",
      "\u001b[1;31mIndexingError\u001b[0m                             Traceback (most recent call last)",
      "\u001b[1;32m<ipython-input-129-25da45b2f19e>\u001b[0m in \u001b[0;36m<module>\u001b[1;34m\u001b[0m\n\u001b[1;32m----> 1\u001b[1;33m \u001b[0mnetflix_db\u001b[0m\u001b[1;33m[\u001b[0m\u001b[0mnetflix_db\u001b[0m\u001b[1;33m[\u001b[0m\u001b[1;34m'director'\u001b[0m\u001b[1;33m]\u001b[0m\u001b[1;33m==\u001b[0m\u001b[1;34m'Raúl Campos, Jan Suter'\u001b[0m\u001b[1;33m]\u001b[0m\u001b[1;33m\u001b[0m\u001b[1;33m\u001b[0m\u001b[0m\n\u001b[0m",
      "\u001b[1;32mC:\\python\\lib\\site-packages\\pandas\\core\\frame.py\u001b[0m in \u001b[0;36m__getitem__\u001b[1;34m(self, key)\u001b[0m\n\u001b[0;32m   2789\u001b[0m         \u001b[1;31m# Do we have a (boolean) 1d indexer?\u001b[0m\u001b[1;33m\u001b[0m\u001b[1;33m\u001b[0m\u001b[1;33m\u001b[0m\u001b[0m\n\u001b[0;32m   2790\u001b[0m         \u001b[1;32mif\u001b[0m \u001b[0mcom\u001b[0m\u001b[1;33m.\u001b[0m\u001b[0mis_bool_indexer\u001b[0m\u001b[1;33m(\u001b[0m\u001b[0mkey\u001b[0m\u001b[1;33m)\u001b[0m\u001b[1;33m:\u001b[0m\u001b[1;33m\u001b[0m\u001b[1;33m\u001b[0m\u001b[0m\n\u001b[1;32m-> 2791\u001b[1;33m             \u001b[1;32mreturn\u001b[0m \u001b[0mself\u001b[0m\u001b[1;33m.\u001b[0m\u001b[0m_getitem_bool_array\u001b[0m\u001b[1;33m(\u001b[0m\u001b[0mkey\u001b[0m\u001b[1;33m)\u001b[0m\u001b[1;33m\u001b[0m\u001b[1;33m\u001b[0m\u001b[0m\n\u001b[0m\u001b[0;32m   2792\u001b[0m \u001b[1;33m\u001b[0m\u001b[0m\n\u001b[0;32m   2793\u001b[0m         \u001b[1;31m# We are left with two options: a single key, and a collection of keys,\u001b[0m\u001b[1;33m\u001b[0m\u001b[1;33m\u001b[0m\u001b[1;33m\u001b[0m\u001b[0m\n",
      "\u001b[1;32mC:\\python\\lib\\site-packages\\pandas\\core\\frame.py\u001b[0m in \u001b[0;36m_getitem_bool_array\u001b[1;34m(self, key)\u001b[0m\n\u001b[0;32m   2841\u001b[0m         \u001b[1;31m# check_bool_indexer will throw exception if Series key cannot\u001b[0m\u001b[1;33m\u001b[0m\u001b[1;33m\u001b[0m\u001b[1;33m\u001b[0m\u001b[0m\n\u001b[0;32m   2842\u001b[0m         \u001b[1;31m# be reindexed to match DataFrame rows\u001b[0m\u001b[1;33m\u001b[0m\u001b[1;33m\u001b[0m\u001b[1;33m\u001b[0m\u001b[0m\n\u001b[1;32m-> 2843\u001b[1;33m         \u001b[0mkey\u001b[0m \u001b[1;33m=\u001b[0m \u001b[0mcheck_bool_indexer\u001b[0m\u001b[1;33m(\u001b[0m\u001b[0mself\u001b[0m\u001b[1;33m.\u001b[0m\u001b[0mindex\u001b[0m\u001b[1;33m,\u001b[0m \u001b[0mkey\u001b[0m\u001b[1;33m)\u001b[0m\u001b[1;33m\u001b[0m\u001b[1;33m\u001b[0m\u001b[0m\n\u001b[0m\u001b[0;32m   2844\u001b[0m         \u001b[0mindexer\u001b[0m \u001b[1;33m=\u001b[0m \u001b[0mkey\u001b[0m\u001b[1;33m.\u001b[0m\u001b[0mnonzero\u001b[0m\u001b[1;33m(\u001b[0m\u001b[1;33m)\u001b[0m\u001b[1;33m[\u001b[0m\u001b[1;36m0\u001b[0m\u001b[1;33m]\u001b[0m\u001b[1;33m\u001b[0m\u001b[1;33m\u001b[0m\u001b[0m\n\u001b[0;32m   2845\u001b[0m         \u001b[1;32mreturn\u001b[0m \u001b[0mself\u001b[0m\u001b[1;33m.\u001b[0m\u001b[0m_take_with_is_copy\u001b[0m\u001b[1;33m(\u001b[0m\u001b[0mindexer\u001b[0m\u001b[1;33m,\u001b[0m \u001b[0maxis\u001b[0m\u001b[1;33m=\u001b[0m\u001b[1;36m0\u001b[0m\u001b[1;33m)\u001b[0m\u001b[1;33m\u001b[0m\u001b[1;33m\u001b[0m\u001b[0m\n",
      "\u001b[1;32mC:\\python\\lib\\site-packages\\pandas\\core\\indexing.py\u001b[0m in \u001b[0;36mcheck_bool_indexer\u001b[1;34m(index, key)\u001b[0m\n\u001b[0;32m   2315\u001b[0m         \u001b[1;32mif\u001b[0m \u001b[0mmask\u001b[0m\u001b[1;33m.\u001b[0m\u001b[0many\u001b[0m\u001b[1;33m(\u001b[0m\u001b[1;33m)\u001b[0m\u001b[1;33m:\u001b[0m\u001b[1;33m\u001b[0m\u001b[1;33m\u001b[0m\u001b[0m\n\u001b[0;32m   2316\u001b[0m             raise IndexingError(\n\u001b[1;32m-> 2317\u001b[1;33m                 \u001b[1;34m\"Unalignable boolean Series provided as \"\u001b[0m\u001b[1;33m\u001b[0m\u001b[1;33m\u001b[0m\u001b[0m\n\u001b[0m\u001b[0;32m   2318\u001b[0m                 \u001b[1;34m\"indexer (index of the boolean Series and of \"\u001b[0m\u001b[1;33m\u001b[0m\u001b[1;33m\u001b[0m\u001b[0m\n\u001b[0;32m   2319\u001b[0m                 \u001b[1;34m\"the indexed object do not match).\"\u001b[0m\u001b[1;33m\u001b[0m\u001b[1;33m\u001b[0m\u001b[0m\n",
      "\u001b[1;31mIndexingError\u001b[0m: Unalignable boolean Series provided as indexer (index of the boolean Series and of the indexed object do not match)."
     ]
    }
   ],
   "source": [
    "netflix_db[netflix_db['director']=='Raúl Campos, Jan Suter']"
   ]
  },
  {
   "cell_type": "code",
   "execution_count": 125,
   "metadata": {},
   "outputs": [
    {
     "name": "stdout",
     "output_type": "stream",
     "text": [
      "{'154 min', '61 min', '196 min', '192 min', '165 min', '99 min', '3 min', '195 min', '9 Seasons', '3 Seasons', '146 min', '89 min', '8 Seasons', '46 min', '42 min', '60 min', '38 min', '205 min', '7 Seasons', '52 min', '126 min', '58 min', '91 min', '67 min', '214 min', '31 min', '169 min', '15 min', '160 min', '40 min', '14 min', '181 min', '55 min', '180 min', '86 min', '141 min', '113 min', '5 Seasons', '97 min', '30 min', '53 min', '228 min', '159 min', '10 min', '82 min', '138 min', '111 min', '137 min', '104 min', '37 min', '145 min', '144 min', '148 min', '32 min', '168 min', '156 min', '100 min', '11 min', '161 min', '34 min', '101 min', '18 min', '87 min', '66 min', '102 min', '134 min', '182 min', '73 min', '190 min', '24 min', '15 Seasons', '120 min', '203 min', '124 min', '125 min', '176 min', '12 Seasons', '178 min', '193 min', '77 min', '172 min', '74 min', '12 min', '167 min', '98 min', '107 min', '49 min', '112 min', '64 min', '177 min', '36 min', '135 min', '80 min', '26 min', '14 Seasons', '13 Seasons', '78 min', '75 min', '150 min', '92 min', '128 min', '200 min', '139 min', '116 min', '106 min', '149 min', '57 min', '79 min', '170 min', '163 min', '22 min', '123 min', '68 min', '136 min', '10 Seasons', '201 min', '2 Seasons', '23 min', '28 min', '174 min', '35 min', '72 min', '312 min', '56 min', '11 Seasons', '71 min', '157 min', '152 min', '171 min', '155 min', '119 min', '140 min', '1 Season', '47 min', '27 min', '20 min', '29 min', '51 min', '151 min', '83 min', '162 min', '108 min', '93 min', '127 min', '63 min', '130 min', '84 min', '25 min', '185 min', '45 min', '133 min', '94 min', '33 min', '65 min', '69 min', '117 min', '85 min', '129 min', '44 min', '109 min', '118 min', '110 min', '41 min', '143 min', '50 min', '59 min', '224 min', '96 min', '153 min', '131 min', '187 min', '191 min', '54 min', '62 min', '189 min', '6 Seasons', '164 min', '95 min', '70 min', '158 min', '147 min', '19 min', '166 min', '81 min', '122 min', '173 min', '142 min', '43 min', '121 min', '103 min', '76 min', '115 min', '4 Seasons', '48 min', '132 min', '179 min', '88 min', '105 min', '209 min', '90 min', '114 min'}\n"
     ]
    }
   ],
   "source": [
    "print(set(netflix_db['duration']))"
   ]
  },
  {
   "cell_type": "code",
   "execution_count": 140,
   "metadata": {},
   "outputs": [
    {
     "name": "stdout",
     "output_type": "stream",
     "text": [
      "{'38 ', '161 ', '88 ', '176 ', '98 ', '9 Seasons', '195 ', '47 ', '3 Seasons', '144 ', '126 ', '8 Seasons', '190 ', '103 ', '61 ', '113 ', '179 ', '22 ', '127 ', '109 ', '173 ', '58 ', '118 ', '7 Seasons', '55 ', '177 ', '77 ', '130 ', '124 ', '185 ', '42 ', '105 ', '200 ', '80 ', '12 ', '33 ', '81 ', '168 ', '85 ', '5 Seasons', '48 ', '149 ', '36 ', '201 ', '92 ', '115 ', '20 ', '116 ', '120 ', '59 ', '57 ', '18 ', '182 ', '119 ', '145 ', '40 ', '15 Seasons', '187 ', '97 ', '180 ', '12 Seasons', '51 ', '228 ', '189 ', '56 ', '133 ', '82 ', '102 ', '104 ', '163 ', '135 ', '70 ', '30 ', '37 ', '137 ', '43 ', '178 ', '35 ', '72 ', '64 ', '148 ', '34 ', '49 ', '69 ', '60 ', '14 Seasons', '13 Seasons', '45 ', '192 ', '154 ', '128 ', '14 ', '50 ', '136 ', '65 ', '89 ', '78 ', '174 ', '193 ', '83 ', '106 ', '122 ', '108 ', '112 ', '71 ', '74 ', '10 Seasons', '312 ', '2 Seasons', '147 ', '117 ', '10 ', '15 ', '41 ', '121 ', '67 ', '123 ', '142 ', '29 ', '170 ', '52 ', '125 ', '141 ', '27 ', '169 ', '11 Seasons', '91 ', '162 ', '191 ', '157 ', '90 ', '53 ', '152 ', '131 ', '153 ', '107 ', '26 ', '24 ', '132 ', '143 ', '151 ', '101 ', '171 ', '99 ', '62 ', '134 ', '203 ', '96 ', '181 ', '111 ', '46 ', '73 ', '76 ', '11 ', '165 ', '23 ', '150 ', '224 ', '1 Seaso', '209 ', '146 ', '156 ', '3 ', '158 ', '31 ', '196 ', '79 ', '138 ', '66 ', '159 ', '87 ', '166 ', '100 ', '114 ', '84 ', '167 ', '6 Seasons', '44 ', '32 ', '110 ', '25 ', '205 ', '140 ', '129 ', '94 ', '155 ', '164 ', '95 ', '28 ', '4 Seasons', '68 ', '86 ', '214 ', '160 ', '63 ', '139 ', '19 ', '172 ', '54 ', '75 ', '93 '}\n"
     ]
    }
   ],
   "source": [
    "#netflix_db['duration'].map(lambda x:x.rstrip('min')).astype(int)\n",
    "\n",
    "netflix_db['duration'] = netflix_db['duration'].apply(lambda x: x.rstrip('min'))\n",
    "print(set(netflix_db['duration']))"
   ]
  },
  {
   "cell_type": "markdown",
   "metadata": {},
   "source": [
    "Next, it would be useful to generate summary statistics from numerical columns like ‘duration’. Let’s define a function that takes a data frame, a categorical column, and a numerical column. The mean and standard deviation of the numerical column for each category is stored in a data frame and the data frame is sorted in descending order according to the mean. This is useful if you want to quickly see if certain categories have higher or lower mean and/or standard deviation values for a particular numerical column."
   ]
  },
  {
   "cell_type": "code",
   "execution_count": 159,
   "metadata": {},
   "outputs": [],
   "source": [
    "netflix_db=netflix_db[~netflix_db['duration'].str.contains('Seasons')]\n",
    "netflix_db=netflix_db[~netflix_db['duration'].str.contains('1 Seaso')]\n",
    "netflix_db['duration']=netflix_db['duration'].astype(int)"
   ]
  },
  {
   "cell_type": "code",
   "execution_count": 183,
   "metadata": {},
   "outputs": [],
   "source": [
    "def return_statistics(data_frame, categorical_column, numerical_column):\n",
    "    mean=[]\n",
    "    std=[]\n",
    "    feild=[]\n",
    "    for i in set(list(data_frame[categorical_column].values)):\n",
    "        new_data=data_frame[data_frame[categorical_column]==i]\n",
    "        feild.append(i)\n",
    "        mean.append(new_data[numerical_column].mean())\n",
    "        std.append(new_data[numerical_column].std())\n",
    "    df=pd.DataFrame({'{}'.format(categorical_column):feild,\n",
    "                     'mean {}'.format(numerical_column):mean,\n",
    "                     'std in {}'.format(numerical_column):std})\n",
    "    df.sort_values('mean {}'.format(numerical_column),inplace=True,ascending=False)\n",
    "    #df.dropna(inplace=True)\n",
    "    return df"
   ]
  },
  {
   "cell_type": "code",
   "execution_count": 192,
   "metadata": {},
   "outputs": [
    {
     "data": {
      "text/html": [
       "<div>\n",
       "<style scoped>\n",
       "    .dataframe tbody tr th:only-of-type {\n",
       "        vertical-align: middle;\n",
       "    }\n",
       "\n",
       "    .dataframe tbody tr th {\n",
       "        vertical-align: top;\n",
       "    }\n",
       "\n",
       "    .dataframe thead th {\n",
       "        text-align: right;\n",
       "    }\n",
       "</style>\n",
       "<table border=\"1\" class=\"dataframe\">\n",
       "  <thead>\n",
       "    <tr style=\"text-align: right;\">\n",
       "      <th></th>\n",
       "      <th>listed_in</th>\n",
       "      <th>mean duration</th>\n",
       "      <th>std in duration</th>\n",
       "    </tr>\n",
       "  </thead>\n",
       "  <tbody>\n",
       "    <tr>\n",
       "      <th>37</th>\n",
       "      <td>Action &amp; Adventure, Cult Movies, Dramas</td>\n",
       "      <td>172.000000</td>\n",
       "      <td>NaN</td>\n",
       "    </tr>\n",
       "    <tr>\n",
       "      <th>150</th>\n",
       "      <td>Action &amp; Adventure, Classic Movies, Internatio...</td>\n",
       "      <td>166.000000</td>\n",
       "      <td>NaN</td>\n",
       "    </tr>\n",
       "    <tr>\n",
       "      <th>30</th>\n",
       "      <td>Dramas, Music &amp; Musicals, Sports Movies</td>\n",
       "      <td>157.000000</td>\n",
       "      <td>NaN</td>\n",
       "    </tr>\n",
       "    <tr>\n",
       "      <th>34</th>\n",
       "      <td>Classic Movies, Cult Movies, Dramas</td>\n",
       "      <td>154.000000</td>\n",
       "      <td>NaN</td>\n",
       "    </tr>\n",
       "    <tr>\n",
       "      <th>50</th>\n",
       "      <td>Classic Movies, Dramas, Romantic Movies</td>\n",
       "      <td>153.666667</td>\n",
       "      <td>46.003623</td>\n",
       "    </tr>\n",
       "    <tr>\n",
       "      <th>...</th>\n",
       "      <td>...</td>\n",
       "      <td>...</td>\n",
       "      <td>...</td>\n",
       "    </tr>\n",
       "    <tr>\n",
       "      <th>240</th>\n",
       "      <td>Children &amp; Family Movies, Comedies, LGBTQ Movies</td>\n",
       "      <td>46.000000</td>\n",
       "      <td>NaN</td>\n",
       "    </tr>\n",
       "    <tr>\n",
       "      <th>78</th>\n",
       "      <td>Movies</td>\n",
       "      <td>45.053571</td>\n",
       "      <td>20.520872</td>\n",
       "    </tr>\n",
       "    <tr>\n",
       "      <th>139</th>\n",
       "      <td>Anime Features, Music &amp; Musicals, Sci-Fi &amp; Fan...</td>\n",
       "      <td>42.000000</td>\n",
       "      <td>NaN</td>\n",
       "    </tr>\n",
       "    <tr>\n",
       "      <th>211</th>\n",
       "      <td>Action &amp; Adventure, Documentaries, Sports Movies</td>\n",
       "      <td>40.000000</td>\n",
       "      <td>NaN</td>\n",
       "    </tr>\n",
       "    <tr>\n",
       "      <th>85</th>\n",
       "      <td>Comedies, Music &amp; Musicals, Sports Movies</td>\n",
       "      <td>30.000000</td>\n",
       "      <td>NaN</td>\n",
       "    </tr>\n",
       "  </tbody>\n",
       "</table>\n",
       "<p>249 rows × 3 columns</p>\n",
       "</div>"
      ],
      "text/plain": [
       "                                             listed_in  mean duration  \\\n",
       "37             Action & Adventure, Cult Movies, Dramas     172.000000   \n",
       "150  Action & Adventure, Classic Movies, Internatio...     166.000000   \n",
       "30             Dramas, Music & Musicals, Sports Movies     157.000000   \n",
       "34                 Classic Movies, Cult Movies, Dramas     154.000000   \n",
       "50             Classic Movies, Dramas, Romantic Movies     153.666667   \n",
       "..                                                 ...            ...   \n",
       "240   Children & Family Movies, Comedies, LGBTQ Movies      46.000000   \n",
       "78                                              Movies      45.053571   \n",
       "139  Anime Features, Music & Musicals, Sci-Fi & Fan...      42.000000   \n",
       "211   Action & Adventure, Documentaries, Sports Movies      40.000000   \n",
       "85           Comedies, Music & Musicals, Sports Movies      30.000000   \n",
       "\n",
       "     std in duration  \n",
       "37               NaN  \n",
       "150              NaN  \n",
       "30               NaN  \n",
       "34               NaN  \n",
       "50         46.003623  \n",
       "..               ...  \n",
       "240              NaN  \n",
       "78         20.520872  \n",
       "139              NaN  \n",
       "211              NaN  \n",
       "85               NaN  \n",
       "\n",
       "[249 rows x 3 columns]"
      ]
     },
     "execution_count": 192,
     "metadata": {},
     "output_type": "execute_result"
    }
   ],
   "source": [
    "return_statistics(netflix_db,'listed_in','duration')"
   ]
  },
  {
   "cell_type": "markdown",
   "metadata": {},
   "source": [
    "###### Similar to the summary statistics function, this function takes a data frame, categorical column, and numerical column and displays boxplots for the most common categories based on the limit:"
   ]
  },
  {
   "cell_type": "code",
   "execution_count": 236,
   "metadata": {},
   "outputs": [],
   "source": [
    "def get_boxplot_of_cat(dataframe,categorical_col,numerical_col,limit):\n",
    "    keys=[]\n",
    "    for i in  dict(Counter(dataframe[categorical_col].values).most_common(limit)):\n",
    "        keys.append(i)\n",
    "    print(keys)\n",
    "    df_new=dataframe[dataframe[categorical_col].isin(keys)]\n",
    "    sns.FacetGrid(df_new,height=5, aspect=4)\n",
    "    sns.boxplot(x=df_new[categorical_col],y=df_new[numerical_col])\n",
    "        "
   ]
  },
  {
   "cell_type": "code",
   "execution_count": 237,
   "metadata": {},
   "outputs": [
    {
     "name": "stdout",
     "output_type": "stream",
     "text": [
      "['Documentaries', 'Stand-Up Comedy', 'Dramas, International Movies', 'Dramas, Independent Movies, International Movies', 'Comedies, Dramas, International Movies']\n"
     ]
    },
    {
     "data": {
      "image/png": "[encoded data removed]",
      "text/plain": [
       "<Figure size 1440x360 with 1 Axes>"
      ]
     },
     "metadata": {},
     "output_type": "display_data"
    }
   ],
   "source": [
    "get_boxplot_of_cat(netflix_db,'listed_in','duration',5)"
   ]
  },
  {
   "cell_type": "code",
   "execution_count": 240,
   "metadata": {},
   "outputs": [],
   "source": [
    "def get_histogram(data_frame,numerical_col):\n",
    "    data_frame[numerical_col].hist(bins=10)"
   ]
  },
  {
   "cell_type": "code",
   "execution_count": 241,
   "metadata": {},
   "outputs": [
    {
     "data": {
      "image/png": "[encoded data removed]",
      "text/plain": [
       "<Figure size 432x288 with 1 Axes>"
      ]
     },
     "metadata": {},
     "output_type": "display_data"
    }
   ],
   "source": [
    "get_histogram(netflix_db, 'duration')"
   ]
  },
  {
   "cell_type": "code",
   "execution_count": null,
   "metadata": {},
   "outputs": [],
   "source": []
  }
 ],
 "metadata": {
  "kernelspec": {
   "display_name": "Python 3",
   "language": "python",
   "name": "python3"
  },
  "language_info": {
   "codemirror_mode": {
    "name": "ipython",
    "version": 3
   },
   "file_extension": ".py",
   "mimetype": "text/x-python",
   "name": "python",
   "nbconvert_exporter": "python",
   "pygments_lexer": "ipython3",
   "version": "3.7.6"
  }
 },
 "nbformat": 4,
 "nbformat_minor": 4
}
